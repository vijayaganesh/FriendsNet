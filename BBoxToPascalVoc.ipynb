{
 "cells": [
  {
   "cell_type": "code",
   "execution_count": 8,
   "metadata": {},
   "outputs": [],
   "source": [
    "import logging\n",
    "import itertools\n",
    "import glob\n",
    "\n",
    "def parse_line(line):\n",
    "    parts = line.rstrip().split('\\t')  # Split on tabs\n",
    "    name = parts[0].replace(\" \", \"_\")\n",
    "    image_id = parts[1]\n",
    "    bbox = map(int, parts[4].split(',')) # This is a list of int\n",
    "    img_name = name+\"_\"+image_id\n",
    "    return img_name,bbox"
   ]
  },
  {
   "cell_type": "code",
   "execution_count": 12,
   "metadata": {},
   "outputs": [],
   "source": [
    "def constructXML(img_name, bbox, label):\n",
    "    img_dir = img_name.split(\"_\")[:-1]\n",
    "    img_dir=\"_\".join(img_dir)\n",
    "    file_ext = \".jpeg\"\n",
    "    xmlbasename = \"H:\\\\NCSU\\\\Courses\\\\Sem2\\\\CV\\\\Project\\\\Project3\\\\Face Scrub\\\\PascalVoc\\\\Actress\\\\\"\n",
    "    img_base_name = \"H:\\\\NCSU\\\\Courses\\\\Sem2\\\\CV\\\\Project\\\\Project3\\\\Face Scrub\\\\Actress\\\\\"\n",
    "    f = open(xmlbasename+img_name + '.xml','w') \n",
    "    line = \"<annotation>\" + '\\n'\n",
    "    f.write(line)\n",
    "    line = '\\t\\t<folder>' + img_base_name+img_dir + '</folder>' + '\\n'\n",
    "    f.write(line)\n",
    "    line = '\\t\\t<filename>' + img_name+file_ext + '</filename>' + '\\n'\n",
    "    f.write(line)\n",
    "    x1, y1, x2, y2 = bbox\n",
    "    width = x2 - x1\n",
    "    height = y2 - y1\n",
    "    line = '\\t<size>\\n\\t\\t<width>'+ str(width) + '</width>\\n\\t\\t<height>' + str(height) + '</height>\\n\\t'\n",
    "    line += '\\t<depth>3</depth>\\n\\t</size>'\n",
    "    f.write(line)\n",
    "    line = '\\n\\t<object>'\n",
    "    line += '\\n\\t\\t<name>'+img_dir+'</name>\\n\\t\\t<label>'+label+'</label>'\n",
    "    line += '\\n\\t\\t<bndbox>\\n\\t\\t\\t<xmin>' + str(x1) + '</xmin>'\n",
    "    line += '\\n\\t\\t\\t<xmax>' + str(x2) + '</xmax>'\n",
    "    line += '\\n\\t\\t\\t<ymin>' + str(y1) + '</ymin>'\n",
    "    line += '\\n\\t\\t\\t<ymax>' + str(y2) + '</ymax>'\n",
    "    line += '\\n\\t\\t</bndbox>'\n",
    "    line += '\\n\\t</object>'\n",
    "    line += '\\n</annotation>'\n",
    "    f.write(line)\n",
    "    f.close()"
   ]
  },
  {
   "cell_type": "code",
   "execution_count": 13,
   "metadata": {},
   "outputs": [],
   "source": [
    "file=\"H:\\\\NCSU\\\\Courses\\\\Sem2\\\\CV\\\\Project\\\\Project3\\\\Face Scrub\\\\facescrub_actresses.txt\"\n",
    "label = \"face\"\n",
    "\n",
    "with open(file) as f:\n",
    "    content = f.readlines()[1:]\n",
    "    result = {}\n",
    "    dic = {}\n",
    "    for c in content:\n",
    "        img_name,bbox = parse_line(c)\n",
    "        constructXML(img_name, bbox,label)"
   ]
  },
  {
   "cell_type": "code",
   "execution_count": null,
   "metadata": {},
   "outputs": [],
   "source": []
  }
 ],
 "metadata": {
  "kernelspec": {
   "display_name": "Python 3",
   "language": "python",
   "name": "python3"
  },
  "language_info": {
   "codemirror_mode": {
    "name": "ipython",
    "version": 3
   },
   "file_extension": ".py",
   "mimetype": "text/x-python",
   "name": "python",
   "nbconvert_exporter": "python",
   "pygments_lexer": "ipython3",
   "version": "3.5.4"
  }
 },
 "nbformat": 4,
 "nbformat_minor": 2
}
